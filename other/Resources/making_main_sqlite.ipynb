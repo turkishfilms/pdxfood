{
 "cells": [
  {
   "cell_type": "code",
   "execution_count": 36,
   "metadata": {},
   "outputs": [],
   "source": [
    "from sqlalchemy.ext.automap import automap_base\n",
    "from sqlalchemy.ext.declarative import declarative_base\n",
    "from sqlalchemy.orm import Session, sessionmaker\n",
    "from sqlalchemy import create_engine, func, inspect, Column, Integer, String, Float\n",
    "import datetime as dt\n",
    "import json\n",
    "\n",
    "base = declarative_base()"
   ]
  },
  {
   "cell_type": "code",
   "execution_count": 37,
   "metadata": {},
   "outputs": [],
   "source": [
    "class Restaurant(base):\n",
    "    __tablename__ = 'restaurant_data'\n",
    "    id = Column(Integer, primary_key=True)\n",
    "    res_id = Column(String(255))\n",
    "    name = Column(String(255))\n",
    "    review_count = Column(Integer)\n",
    "    category = Column(String(255))\n",
    "    rating = Column(Float)\n",
    "    price = Column(String(255))\n",
    "    city = Column(String(255))\n",
    "    state = Column(String(255))\n",
    "    country = Column(String(255))\n",
    "    Lat = Column(Float)\n",
    "    Lng = Column(Float)"
   ]
  },
  {
   "cell_type": "code",
   "execution_count": 38,
   "metadata": {},
   "outputs": [],
   "source": [
    "engine = create_engine('sqlite:///main_data.sqlite')\n",
    "\n",
    "Session = sessionmaker(bind=engine)\n",
    "# session = Session() \n",
    "# connection = engine.connect()"
   ]
  },
  {
   "cell_type": "code",
   "execution_count": 39,
   "metadata": {},
   "outputs": [],
   "source": [
    "base.metadata.create_all(engine)\n",
    "# base.metadata.drop_all(engine)"
   ]
  },
  {
   "cell_type": "code",
   "execution_count": 40,
   "metadata": {},
   "outputs": [],
   "source": [
    "# add json contents into db\n",
    "# get json here\n",
    "with open(r\"G:\\CODE\\Data Analytics Bootcamp\\Data_Analytics\\Class_Folder\\Project3\\UofO-Data-Analytics-Bootcamp-Project3\\restaurant_data.json\", \"r\") as file:\n",
    "    json_data = json.load(file)\n",
    "data = json_data[\"items\"]\n",
    "# make function to put one element into db\n",
    "def add_to_db(item):\n",
    "    # print(\"adding the thing to the other thinf\", item[\"rating\"])\n",
    "    return Restaurant(\n",
    "        res_id = item[\"id\"],\n",
    "        name = item[\"name\"],\n",
    "        review_count = item[\"review_count\"],\n",
    "        category = item[\"category\"],\n",
    "        rating = item[\"rating\"],\n",
    "        price = item[\"price\"],\n",
    "        city = item[\"city\"],\n",
    "        state = item[\"state\"],\n",
    "        country = item[\"country\"],\n",
    "        Lat = item[\"Lat\"],\n",
    "        Lng = item[\"Lng\"])\n",
    "# start session\n",
    "session = Session()\n",
    "# loop throuhg json\n",
    "for item in data:\n",
    "# add each in\n",
    "    # print(item[\"id\"])\n",
    "    session.add(add_to_db(item))\n",
    "# save to db\n",
    "session.commit()\n",
    "session.close()"
   ]
  }
 ],
 "metadata": {
  "kernelspec": {
   "display_name": "PythonData",
   "language": "python",
   "name": "python3"
  },
  "language_info": {
   "codemirror_mode": {
    "name": "ipython",
    "version": 3
   },
   "file_extension": ".py",
   "mimetype": "text/x-python",
   "name": "python",
   "nbconvert_exporter": "python",
   "pygments_lexer": "ipython3",
   "version": "3.7.7"
  },
  "orig_nbformat": 4
 },
 "nbformat": 4,
 "nbformat_minor": 2
}
