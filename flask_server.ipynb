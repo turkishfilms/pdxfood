{
 "cells": [
  {
   "cell_type": "code",
   "execution_count": 8,
   "metadata": {},
   "outputs": [],
   "source": [
    "from flask import Flask,jsonify,render_template\n",
    "from flask_cors import CORS\n",
    "import json\n",
    "import pandas as pd\n",
    "import sqlalchemy\n",
    "from sqlalchemy.ext.automap import automap_base\n",
    "from sqlalchemy.orm import Session, sessionmaker\n",
    "from sqlalchemy import create_engine, func, inspect\n",
    "import datetime as dt"
   ]
  },
  {
   "cell_type": "markdown",
   "metadata": {},
   "source": [
    "make flask server and do sql stuff"
   ]
  },
  {
   "cell_type": "code",
   "execution_count": 18,
   "metadata": {},
   "outputs": [],
   "source": [
    "with open(\"../restaurant_data.json\", 'r') as file:\n",
    "    data_but_like_the_json_one = json.load(file)"
   ]
  },
  {
   "cell_type": "code",
   "execution_count": 19,
   "metadata": {},
   "outputs": [],
   "source": [
    "def queried_to_obj(sql_version):\n",
    "    return {property.name: getattr(sql_version, property.name) for property in sql_version.__table__.columns}\n",
    "\n",
    "def pull_vote_totals(types):\n",
    "    session = Session()\n",
    "    boop = session.query(types).all()\n",
    "    democracy = {\"mexican\":0, \"italian\": 0, \"thai\":0}\n",
    "    for i in boop:        \n",
    "        democracy[i.restaurant_type] = i.votes_cast   \n",
    "    session.close()\n",
    "    return democracy\n",
    "    \n",
    "\n",
    "def add_vote_to_db(vote,types):\n",
    "    session = Session()\n",
    "    tp = session.query(types).filter(types.restaurant_type == vote).first()\n",
    "    tp.votes_cast += 1\n",
    "    session.commit()\n",
    "    session.close()\n",
    "    return json.dumps(\"vote added to db\")"
   ]
  },
  {
   "cell_type": "code",
   "execution_count": 20,
   "metadata": {},
   "outputs": [],
   "source": [
    "engine_main = create_engine(\"sqlite:///Resources/main_data.sqlite\")\n",
    "\n",
    "base_main = automap_base()\n",
    "base_main.prepare(autoload_with=engine_main)\n",
    "\n",
    "eatery = base_main.classes.restaurant_data\n",
    "\n",
    "Session_main = sessionmaker(bind=engine_main)\n",
    "session_main = Session_main()\n",
    "\n",
    "data_but_from_sql_pre = session_main.query(eatery).all()\n",
    "\n",
    "the_places = list(map(queried_to_obj, data_but_from_sql_pre))\n",
    "data_but_from_sql = json.dumps(the_places)\n",
    "session_main.close()"
   ]
  },
  {
   "cell_type": "code",
   "execution_count": 21,
   "metadata": {},
   "outputs": [],
   "source": [
    "engine = create_engine(\"sqlite:///Resources/votes.sqlite\")\n",
    "\n",
    "base = automap_base()\n",
    "base.prepare(autoload_with=engine)\n",
    "\n",
    "cuisines = base.classes.Favorite_Cuisines\n",
    "\n",
    "Session = sessionmaker(bind=engine) "
   ]
  },
  {
   "cell_type": "code",
   "execution_count": 46,
   "metadata": {},
   "outputs": [
    {
     "name": "stdout",
     "output_type": "stream",
     "text": [
      " * Serving Flask app '__main__'\n",
      " * Debug mode: off\n"
     ]
    },
    {
     "name": "stderr",
     "output_type": "stream",
     "text": [
      "WARNING: This is a development server. Do not use it in a production deployment. Use a production WSGI server instead.\n",
      " * Running on http://127.0.0.1:5000\n",
      "Press CTRL+C to quit\n",
      "127.0.0.1 - - [13/Apr/2023 19:25:21] \"GET /chart HTTP/1.1\" 200 -\n",
      "127.0.0.1 - - [13/Apr/2023 19:25:28] \"GET /data HTTP/1.1\" 200 -\n"
     ]
    }
   ],
   "source": [
    "app = Flask(__name__)\n",
    "CORS(app,resources={r\"/*\": {\"origins\": [\"http://127.0.0.1:5000\"]}})\n",
    "\n",
    "\n",
    "@app.route(\"/\")\n",
    "def home():\n",
    "    return render_template('index.html')\n",
    "\n",
    "@app.route(\"/map\")\n",
    "def dontwait():\n",
    "    return render_template('map.html')\n",
    "\n",
    "@app.route(\"/chart\")\n",
    "def justkiddingyoucanwait():\n",
    "    return render_template('chart.html')\n",
    "\n",
    "@app.route(\"/btc\")\n",
    "def nvm():\n",
    "    return render_template('btc.html')\n",
    "\n",
    "@app.route(\"/vote<vote>\")\n",
    "def noway(vote):\n",
    "    add_vote_to_db(vote,cuisines)\n",
    "    return vote\n",
    "    \n",
    "@app.route(\"/voteTot\")\n",
    "def jose():\n",
    "    voteTots = pull_vote_totals(cuisines)\n",
    "    return json.dumps(voteTots)\n",
    "\n",
    "@app.route(\"/data\")\n",
    "def josephine():\n",
    "    return json.dumps(data_but_from_sql)\n",
    "\n",
    "\n",
    "if(__name__==\"__main__\"):\n",
    "    app.run()"
   ]
  }
 ],
 "metadata": {
  "kernelspec": {
   "display_name": "PythonData",
   "language": "python",
   "name": "python3"
  },
  "language_info": {
   "codemirror_mode": {
    "name": "ipython",
    "version": 3
   },
   "file_extension": ".py",
   "mimetype": "text/x-python",
   "name": "python",
   "nbconvert_exporter": "python",
   "pygments_lexer": "ipython3",
   "version": "3.7.7"
  },
  "orig_nbformat": 4
 },
 "nbformat": 4,
 "nbformat_minor": 2
}
